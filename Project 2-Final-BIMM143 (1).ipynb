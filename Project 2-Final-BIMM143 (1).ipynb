{
 "cells": [
  {
   "cell_type": "markdown",
   "id": "5419cfcc",
   "metadata": {},
   "source": [
    "# Project 2 Final BIMM 143"
   ]
  },
  {
   "cell_type": "markdown",
   "id": "e2c80b44",
   "metadata": {},
   "source": [
    "# Background\n",
    "The RPGRIP1 gene encodes for the X-linked retinitis pigmentosa GTPase regulator-interacting protein 1, which is a protein encoding a photoreceptor that is responsible for interacting with the retinitis pigmentosa GTPase regulator protein [7]. Mutations in this gene result in altered versions of the protein, including early stop codon, or lack of stop codons which cause faulty or non-functional isoforms of the protein [6]. Such mutations lead to autosomal recessive congenital blindness with diseases including Leber Congenital Amaurosis (LCA) and Retinitis Pigmentosa (RP) in humans [1]. Defects in this gene in other species also result in blindness, for example, by causing cone-rod dystrophy in canines [2]. \n",
    "\n",
    "Various studies have been done in humans, mice, and canines to look at the isoforms and pathways of RPGRIP1 in each and identify the mutations that result in disease. Some of the found mutations that resulted in such defects included truncation resulting in the protein's absence, point mutations in specific exons resulting in splice errors at their acceptor sites, and nonsense mutations in a highly conserved region resulting in premature stop codons [6].\n",
    "\n",
    "Some databases where information about this gene and its protein sequence include, SWISS model, which had a visual crystal structure of the protein found in both humans and mice, NCBI, which has the nucleotide and amino acid sequences available for a variety of species and also some isoforms, and EMBL-EBI, which allowed for color-coded visualization of protein sequence alignments of all species."
   ]
  },
  {
   "cell_type": "markdown",
   "id": "450709a9",
   "metadata": {},
   "source": [
    "## 1. Scientific question:\n",
    "Does the RPGRIP1 gene in humans, which when mutated results in retinal dystrophy and congenital blindness, share similarities with the RPGRIP1 gene and protein sequences present in other mammalian species as determined by BLAST?\n"
   ]
  },
  {
   "cell_type": "markdown",
   "id": "e21b4f56",
   "metadata": {},
   "source": [
    "## 2: Scientific hypothesis:\n",
    "If the RPGRIP1 gene sequence in humans shares similarities in sequence and structure with the RPGRIP1 gene in other mammalian species then the mutations that result in their descrease or loss of function must also have similarities.\n"
   ]
  },
  {
   "cell_type": "markdown",
   "id": "76b7a6a3",
   "metadata": {},
   "source": [
    "# Part 1: Load Packages"
   ]
  },
  {
   "cell_type": "code",
   "execution_count": 45,
   "id": "7f14dbfd",
   "metadata": {},
   "outputs": [],
   "source": [
    "# Blast is a package in biopython that allows for use of BLAST database using python code\n",
    "# NCBIWWW allows access to the NCBI BLAST server in jupyter notebook\n",
    "# NCBIXML allows code to work with the BLAST XML files\n",
    "from Bio.Blast import NCBIWWW, NCBIXML \n",
    "#Bio.SeqIO provides a simple  interface to input and output sequence file formats such as multiple sequence alignments. \n",
    "from Bio import SeqIO\n",
    "#Deals with files containing 1+ sequence alignments. Similar to seqIO, but uses sequence alignment files as Alignment objects not SeqRecord objects.\n",
    "from Bio import AlignIO\n",
    "from Bio import Seq\n",
    "import os\n",
    "#A package allowing for data manipulation and analysis\n",
    "import pandas as pd\n",
    "import sgt\n",
    "#NumPy is a library consisting of multidimensional array objects and a collection of methods for processing those arrays\n",
    "import numpy as np\n",
    "#Matplotlib is a  library for creating visualizations in Python\n",
    "import matplotlib.pyplot as plt\n",
    "import logomaker as lm"
   ]
  },
  {
   "cell_type": "code",
   "execution_count": 2,
   "id": "31b7488c",
   "metadata": {},
   "outputs": [
    {
     "name": "stdout",
     "output_type": "stream",
     "text": [
      "Collecting sgt\n",
      "  Downloading sgt-2.0.3-py3-none-any.whl (27 kB)\n",
      "Installing collected packages: sgt\n",
      "Successfully installed sgt-2.0.3\n",
      "Note: you may need to restart the kernel to use updated packages.\n"
     ]
    }
   ],
   "source": [
    "pip install sgt"
   ]
  },
  {
   "cell_type": "markdown",
   "id": "92b40533",
   "metadata": {},
   "source": [
    "### Part 2: Load Data & Perform Bioinformatic Analysis (BLAST Search, Multiple Sequence Alignment, and Sequence Clustering)"
   ]
  },
  {
   "cell_type": "code",
   "execution_count": 33,
   "id": "c79413b9",
   "metadata": {},
   "outputs": [
    {
     "name": "stdout",
     "output_type": "stream",
     "text": [
      "                       Species references  \\\n",
      "0      ref|NC_000014.9|:21269397-21362000   \n",
      "1      ref|NC_051819.1|:18564839-18657182   \n",
      "2      ref|NC_000080.7|:52333132-52407360   \n",
      "3       ref|NC_007135.7|:c7781861-7743202   \n",
      "4        ref|NC_036893.1|:2210957-2284529   \n",
      "5     ref|NC_037337.1|:c25870759-25797654   \n",
      "6   ref|NC_030677.2|:c142117178-142088446   \n",
      "7     ref|NC_010449.5|:c77917473-77800462   \n",
      "8     ref|NC_060071.1|:c53645443-53589776   \n",
      "9   ref|NW_025578520.1|:64468071-64520808   \n",
      "10     ref|NW_025334033.1|:c455463-370676   \n",
      "11      ref|NW_025578506.1|:845436-931246   \n",
      "12     ref|NC_058373.1|:71944186-72059920   \n",
      "\n",
      "                                             Sequence  \n",
      "0   CCGCTCAGTCTTCGTCTCTTCACAAAATGGCCCCCGAGTCTCCTCT...  \n",
      "1   TTTACTGCATTCTGTTTCTCCCACACTGAGTCTGTCCCCCAAGCTG...  \n",
      "2   TACTGCAATCTTCTACAGAGCTGTGCATAAATCTTATATAGTATCA...  \n",
      "3   AGTTTTGGGAAGAGCACAAAGATCGTTTCTCAGCAAGAATAAAAAT...  \n",
      "4   GGAGACAGGGTTTCACCATGTTGGCCAGGCTGGTCTTGAACTCCTG...  \n",
      "5   TTTTGTAATCAGAATAGTATTATTATATCTCCAACTTCTTGATGAC...  \n",
      "6   ATTCACTAAAATCAGTAAAAGGAACAACATGCGCTAGTCTGGGGGC...  \n",
      "7   TGGTCTCTGATGGATCCAGACAAAGCACTTAAAACTTCACAAAACC...  \n",
      "8   AGTTCTAAACCCCTGTAAGAGCAGTTTCTATTTCTTCTTTTTTGTG...  \n",
      "9   AAAAGTATATCTTAGCAACATTATGGCTATTTCATTTTTTCCAATG...  \n",
      "10  TCCTAATTATTTTTCTTCCCGTGGTTAAAAATCTTTTCTTATTTCA...  \n",
      "11  TACGATTAGTACATCTCATTTTCTTCTTTTTATTTTTCTGTTCAAG...  \n",
      "12  GTGGCTCAGTTGGTTGAGACTTCACCTCAGGTTCGTGGTTTAGAGC...  \n"
     ]
    }
   ],
   "source": [
    "#Input for BLAST\n",
    "df = pd.read_csv('Various_Species_RPGRIP1_Seq.csv', header= None, names=[\"Species references\",\"Sequence\"])\n",
    "print(df)\n",
    "#Input for MS Alignment\n",
    "input_file = 'Various_Species_RPGRIP1_Seq.fasta'"
   ]
  },
  {
   "cell_type": "markdown",
   "id": "184f9eba",
   "metadata": {},
   "source": [
    "### BLAST Search:\n",
    "    "
   ]
  },
  {
   "cell_type": "code",
   "execution_count": null,
   "id": "57d976be",
   "metadata": {
    "scrolled": true
   },
   "outputs": [],
   "source": [
    "from Bio import Seq\n",
    "from Bio.Blast import NCBIWWW, NCBIXML \n",
    "from Bio import SeqIO\n",
    "\n",
    "sequence_data = open(\"Human_BLAST_Seq.fasta\").read()\n",
    "\n",
    "seq_record = next(SeqIO.parse(open(\"Human_BLAST_Seq.fasta\"),'fasta'))\n",
    "#from Bio import Medline\n",
    "#with open(\"Various_Species_RPGRIP1_Seq.txt\") as seq_record:\n",
    "     #for record in Medline.parse(seq_record):\n",
    "results = NCBIWWW.qblast(\"blastn\", \"nt\", seq_record.seq) \n",
    "\n",
    "#print(results)\n",
    "with open('Human_BLAST_Seq.fasta', 'w') as save_file: \n",
    "    blast_results = results.read() \n",
    "    save_file.write(blast_results)\n",
    "E_VALUE_THRESH = 1e-20 \n",
    "for record in NCBIXML.parse(open('Human_BLAST_Seq.fasta')): \n",
    "     if record.alignments: \n",
    "        print(\"\\n\") \n",
    "        print(\"query: %s\" % record.query[:100]) \n",
    "        for align in record.alignments: \n",
    "           for hsp in align.hsps: \n",
    "              if hsp.expect < E_VALUE_THRESH: \n",
    "                 print(\"match: %s \" % align.title[:100])"
   ]
  },
  {
   "cell_type": "markdown",
   "id": "235e3059",
   "metadata": {},
   "source": [
    "### Multiple Sequence Alignment "
   ]
  },
  {
   "cell_type": "code",
   "execution_count": 12,
   "id": "b3d65718",
   "metadata": {},
   "outputs": [
    {
     "name": "stdout",
     "output_type": "stream",
     "text": [
      "Alignment with 13 rows and 117012 columns\n",
      "CCGCTCAGTCTTCGTCTCTTCACAAAATGGCCCCCGAGTCTCCT...... ref|NC_000014.9|:21269397-21362000\n",
      "TTTACTGCATTCTGTTTCTCCCACACTGAGTCTGTCCCCCAAGC...... ref|NC_051819.1|:18564839-18657182\n",
      "TACTGCAATCTTCTACAGAGCTGTGCATAAATCTTATATAGTAT...... ref|NC_000080.7|:52333132-52407360\n",
      "AGTTTTGGGAAGAGCACAAAGATCGTTTCTCAGCAAGAATAAAA...... ref|NC_007135.7|:c7781861-7743202\n",
      "GGAGACAGGGTTTCACCATGTTGGCCAGGCTGGTCTTGAACTCC...... ref|NC_036893.1|:2210957-2284529\n",
      "TTTTGTAATCAGAATAGTATTATTATATCTCCAACTTCTTGATG...... ref|NC_037337.1|:c25870759-25797654\n",
      "ATTCACTAAAATCAGTAAAAGGAACAACATGCGCTAGTCTGGGG...... ref|NC_030677.2|:c142117178-142088446\n",
      "TGGTCTCTGATGGATCCAGACAAAGCACTTAAAACTTCACAAAA...TGG ref|NC_010449.5|:c77917473-77800462\n",
      "AGTTCTAAACCCCTGTAAGAGCAGTTTCTATTTCTTCTTTTTTG...... ref|NC_060071.1|:c53645443-53589776\n",
      "AAAAGTATATCTTAGCAACATTATGGCTATTTCATTTTTTCCAA...... ref|NW_025578520.1|:64468071-64520808\n",
      "TCCTAATTATTTTTCTTCCCGTGGTTAAAAATCTTTTCTTATTT...... ref|NW_025334033.1|:c455463-370676\n",
      "TACGATTAGTACATCTCATTTTCTTCTTTTTATTTTTCTGTTCA...... ref|NW_025578506.1|:845436-931246\n",
      "GTGGCTCAGTTGGTTGAGACTTCACCTCAGGTTCGTGGTTTAGA...... ref|NC_058373.1|:71944186-72059920\n"
     ]
    }
   ],
   "source": [
    "records = SeqIO.parse(input_file, 'fasta')\n",
    "records = list(records) # make a copy, otherwise our generator\n",
    "                        # is exhausted after calculating maxlen\n",
    "maxlen = max(len(record.seq) for record in records)\n",
    "\n",
    "# pad sequences so that they all have the same length\n",
    "for record in records:\n",
    "    if len(record.seq) != maxlen:\n",
    "        sequence = str(record.seq).ljust(maxlen, '.')\n",
    "        record.seq = Seq.Seq(sequence)\n",
    "assert all(len(record.seq) == maxlen for record in records)\n",
    "\n",
    "# write to temporary file and do alignment\n",
    "output_file = '{}_padded.fasta'.format(os.path.splitext(input_file)[0])\n",
    "with open(output_file, 'w') as f:\n",
    "    SeqIO.write(records, f, 'fasta')\n",
    "alignment = AlignIO.read(output_file, \"fasta\")\n",
    "print (alignment)\n"
   ]
  },
  {
   "cell_type": "markdown",
   "id": "8dda5135",
   "metadata": {},
   "source": [
    "### Sequence Clustering:"
   ]
  },
  {
   "cell_type": "code",
   "execution_count": null,
   "id": "f8ba65af",
   "metadata": {},
   "outputs": [],
   "source": [
    "#DataFrame used to create two-dimensional, size-mutable, potentially heterogeneous tabular data.\n",
    "protein_data = pd.read_csv('Various_Species_RPGRIP1_Seq.csv', header=None, names=[\"Species\", \"Sequence\"])\n",
    "#print(protein_data.columns)\n",
    "#pd.DataFrame.to_csv('Various_Species_RPGRIP1_Seq.csv')\n",
    "#pd.DataFrame(protein_data, dtype=None, columns=None)\n",
    "X = protein_data['Sequence']\n",
    "def split(word): \n",
    "    return [char for char in word]\n",
    "sequences = [split(x) for x in X]\n",
    "#print(sequences[0])\n",
    "import sgt\n",
    "from sgt import SGT\n",
    "from sklearn.preprocessing import StandardScaler\n",
    "from sklearn.decomposition import PCA\n",
    "from sklearn.cluster import KMeans\n",
    "from sklearn.pipeline import Pipeline\n",
    "#SGT = StandardScaler()\n",
    "sgt = SGT(kappa = 10, lengthsensitive = False)\n",
    "#corpus = pd.DataFrame(/Users/ali/Downloads/RPGRIP1_datasets/Various_Species_RPGRIP1_Seq.csv, columns=['Ref', 'sequence'])\n",
    "corpus=pd.DataFrame([[i, s] for i,s in enumerate(sequences)], columns=['id', 'sequence'])\n",
    "embedding = sgt.fit_transform(corpus=corpus)\n",
    "embedding = embedding.set_index('id')\n",
    "pca = PCA(n_components=2)\n",
    "pca.fit(embedding)\n",
    "X = pca.transform(embedding)\n",
    "print(np.sum(pca.explained_variance_ratio_))\n",
    "df = pd.DataFrame(data=X, columns=['x1', 'x2'])\n",
    "#df.head()\n",
    "kmeans = KMeans(n_clusters=3, max_iter =300)\n",
    "kmeans.fit(df)\n",
    "labels = kmeans.predict(df)\n",
    "centroids = kmeans.cluster_centers_\n",
    "fig = plt.figure(figsize=(5, 5))\n",
    "colmap = {1: 'r', 2: 'g', 3: 'b'}\n",
    "colors = list(map(lambda x: colmap[x+1], labels))\n",
    "plt.scatter(df['x1'], df['x2'], color=colors, alpha=0.5, edgecolor=colors)"
   ]
  },
  {
   "cell_type": "code",
   "execution_count": 44,
   "id": "37db11af",
   "metadata": {},
   "outputs": [
    {
     "name": "stdout",
     "output_type": "stream",
     "text": [
      "Help on function fit_transform in module sgt.sgt:\n",
      "\n",
      "fit_transform(self, corpus)\n",
      "    Inputs:\n",
      "    corpus       A list of sequences. Each sequence is a list of alphabets.\n",
      "\n"
     ]
    }
   ],
   "source": [
    "help(SGT.fit_transform)"
   ]
  },
  {
   "cell_type": "markdown",
   "id": "2fa635a9",
   "metadata": {},
   "source": [
    "### Sequence Logos"
   ]
  },
  {
   "cell_type": "code",
   "execution_count": 14,
   "id": "b60856d3",
   "metadata": {},
   "outputs": [
    {
     "name": "stdout",
     "output_type": "stream",
     "text": [
      "Requirement already satisfied: logomaker in /Users/ali/opt/anaconda3/lib/python3.9/site-packages (0.8)\n",
      "Requirement already satisfied: numpy in /Users/ali/opt/anaconda3/lib/python3.9/site-packages (from logomaker) (1.20.3)\n",
      "Requirement already satisfied: matplotlib in /Users/ali/opt/anaconda3/lib/python3.9/site-packages (from logomaker) (3.4.3)\n",
      "Requirement already satisfied: pandas in /Users/ali/opt/anaconda3/lib/python3.9/site-packages (from logomaker) (1.3.4)\n",
      "Requirement already satisfied: pyparsing>=2.2.1 in /Users/ali/opt/anaconda3/lib/python3.9/site-packages (from matplotlib->logomaker) (3.0.4)\n",
      "Requirement already satisfied: cycler>=0.10 in /Users/ali/opt/anaconda3/lib/python3.9/site-packages (from matplotlib->logomaker) (0.10.0)\n",
      "Requirement already satisfied: python-dateutil>=2.7 in /Users/ali/opt/anaconda3/lib/python3.9/site-packages (from matplotlib->logomaker) (2.8.2)\n",
      "Requirement already satisfied: pillow>=6.2.0 in /Users/ali/opt/anaconda3/lib/python3.9/site-packages (from matplotlib->logomaker) (8.4.0)\n",
      "Requirement already satisfied: kiwisolver>=1.0.1 in /Users/ali/opt/anaconda3/lib/python3.9/site-packages (from matplotlib->logomaker) (1.3.1)\n",
      "Requirement already satisfied: six in /Users/ali/opt/anaconda3/lib/python3.9/site-packages (from cycler>=0.10->matplotlib->logomaker) (1.16.0)\n",
      "Requirement already satisfied: pytz>=2017.3 in /Users/ali/opt/anaconda3/lib/python3.9/site-packages (from pandas->logomaker) (2021.3)\n"
     ]
    }
   ],
   "source": [
    "!pip install logomaker"
   ]
  },
  {
   "cell_type": "code",
   "execution_count": null,
   "id": "eaa27053",
   "metadata": {},
   "outputs": [],
   "source": [
    "#Test run logomaker to see an example of a sequence logo\n",
    "#lm.demo()"
   ]
  },
  {
   "cell_type": "code",
   "execution_count": 57,
   "id": "ac2f1070",
   "metadata": {},
   "outputs": [
    {
     "name": "stdout",
     "output_type": "stream",
     "text": [
      "Requirement already satisfied: biopython in /Users/ali/opt/anaconda3/lib/python3.9/site-packages (1.79)\n",
      "Requirement already satisfied: pandas in /Users/ali/opt/anaconda3/lib/python3.9/site-packages (1.3.4)\n",
      "Collecting seqlogo\n",
      "  Downloading seqlogo-5.29.8.tar.gz (28 kB)\n",
      "Requirement already satisfied: numpy in /Users/ali/opt/anaconda3/lib/python3.9/site-packages (from biopython) (1.20.3)\n",
      "Requirement already satisfied: python-dateutil>=2.7.3 in /Users/ali/opt/anaconda3/lib/python3.9/site-packages (from pandas) (2.8.2)\n",
      "Requirement already satisfied: pytz>=2017.3 in /Users/ali/opt/anaconda3/lib/python3.9/site-packages (from pandas) (2021.3)\n",
      "Collecting weblogo\n",
      "  Downloading weblogo-3.7.9-py3-none-any.whl (466 kB)\n",
      "\u001b[K     |████████████████████████████████| 466 kB 4.1 MB/s eta 0:00:01\n",
      "\u001b[?25hCollecting ghostscript\n",
      "  Downloading ghostscript-0.7-py2.py3-none-any.whl (25 kB)\n",
      "Requirement already satisfied: pytest in /Users/ali/opt/anaconda3/lib/python3.9/site-packages (from seqlogo) (6.2.4)\n",
      "Requirement already satisfied: six>=1.5 in /Users/ali/opt/anaconda3/lib/python3.9/site-packages (from python-dateutil>=2.7.3->pandas) (1.16.0)\n",
      "Requirement already satisfied: setuptools>=38.6.0 in /Users/ali/opt/anaconda3/lib/python3.9/site-packages (from ghostscript->seqlogo) (58.0.4)\n",
      "Requirement already satisfied: attrs>=19.2.0 in /Users/ali/opt/anaconda3/lib/python3.9/site-packages (from pytest->seqlogo) (21.2.0)\n",
      "Requirement already satisfied: iniconfig in /Users/ali/opt/anaconda3/lib/python3.9/site-packages (from pytest->seqlogo) (1.1.1)\n",
      "Requirement already satisfied: packaging in /Users/ali/opt/anaconda3/lib/python3.9/site-packages (from pytest->seqlogo) (21.0)\n",
      "Requirement already satisfied: pluggy<1.0.0a1,>=0.12 in /Users/ali/opt/anaconda3/lib/python3.9/site-packages (from pytest->seqlogo) (0.13.1)\n",
      "Requirement already satisfied: py>=1.8.2 in /Users/ali/opt/anaconda3/lib/python3.9/site-packages (from pytest->seqlogo) (1.10.0)\n",
      "Requirement already satisfied: toml in /Users/ali/opt/anaconda3/lib/python3.9/site-packages (from pytest->seqlogo) (0.10.2)\n",
      "Requirement already satisfied: pyparsing>=2.0.2 in /Users/ali/opt/anaconda3/lib/python3.9/site-packages (from packaging->pytest->seqlogo) (3.0.4)\n",
      "Requirement already satisfied: scipy in /Users/ali/opt/anaconda3/lib/python3.9/site-packages (from weblogo->seqlogo) (1.7.1)\n",
      "Building wheels for collected packages: seqlogo\n",
      "  Building wheel for seqlogo (setup.py) ... \u001b[?25ldone\n",
      "\u001b[?25h  Created wheel for seqlogo: filename=seqlogo-5.29.8-py2.py3-none-any.whl size=19419 sha256=bf45593c38709fce1f65464b67ded2064c148d29595067c0f224dbd88581951e\n",
      "  Stored in directory: /Users/ali/Library/Caches/pip/wheels/70/8d/81/cc8e9e321982bb0443f3362e332258f609c5cc1c0fec61f440\n",
      "Successfully built seqlogo\n",
      "Installing collected packages: weblogo, ghostscript, seqlogo\n",
      "Successfully installed ghostscript-0.7 seqlogo-5.29.8 weblogo-3.7.9\n"
     ]
    }
   ],
   "source": [
    "!pip install biopython pandas seqlogo"
   ]
  },
  {
   "cell_type": "code",
   "execution_count": 75,
   "id": "d8a55e71",
   "metadata": {},
   "outputs": [
    {
     "name": "stdout",
     "output_type": "stream",
     "text": [
      ">NP_001300702.1\n",
      "LTRLLDLKSHRIRQLEEQLKDVVY\n",
      ">XP_020955717.1\n",
      "LNQLLDLKNKRINQLEGILRSLGLP\n",
      ">NP_065099.3\n",
      "LTRLLDLKNNRIKQLEGILRSHDLP\n",
      ">XP_006519752.1\n",
      "LNHLLDFKNSRIKQLEEQLKDVAY\n",
      ">NP_851377.1\n",
      "LNQLLDLKNKRINQLEEQLKDVAY\n",
      "\n",
      "['LTRLLDLKSHRIRQLEEQLKDVVY', 'LNQLLDLKNKRINQLEGILRSLGLP', 'LTRLLDLKNNRIKQLEGILRSHDLP', 'LNHLLDFKNSRIKQLEEQLKDVAY', 'LNQLLDLKNKRINQLEEQLKDVAY']\n"
     ]
    },
    {
     "data": {
      "text/plain": [
       "<logomaker.src.Logo.Logo at 0x7fcda819ba60>"
      ]
     },
     "execution_count": 75,
     "metadata": {},
     "output_type": "execute_result"
    },
    {
     "data": {
      "image/png": "[encoded data removed]",
      "text/plain": [
       "<Figure size 720x180 with 1 Axes>"
      ]
     },
     "metadata": {
      "needs_background": "light"
     },
     "output_type": "display_data"
    }
   ],
   "source": [
    "#For multiple sequence alignment with gaps\n",
    "%matplotlib inline\n",
    "plt.ion()\n",
    "#Allows for creation of sequence logos and visualization from alignments to show conservation of AAs in sequences.\n",
    "with open('Proteins_Seq_Logos.fasta') as f:\n",
    "          \n",
    "    lines = f.readlines()\n",
    "# preview loaded file\n",
    "print(''.join(lines[:20]))\n",
    "\n",
    "\n",
    "# extract ww domain sequences\n",
    "seqs = [seq.strip().upper() for seq in lines if ('#' not in seq) and ('>') not in seq]\n",
    "\n",
    "# Preview sequences\n",
    "#print('There are %d sequences, all of length %d'%(len(seqs), len(seqs[0])))\n",
    "print(seqs[:5])\n",
    "for i, s in enumerate(seqs):\n",
    "    if len(s) < 25:\n",
    "        seqs[i] = s + \".\"  \n",
    "#print(len(s))\n",
    "counts_mat = lm.alignment_to_matrix(seqs)\n",
    "counts_mat.head()\n",
    "lm.Logo(counts_mat)\n",
    "\n"
   ]
  },
  {
   "cell_type": "markdown",
   "id": "d4ce6fea",
   "metadata": {},
   "source": [
    "## Analysis"
   ]
  },
  {
   "cell_type": "code",
   "execution_count": null,
   "id": "48c9438a",
   "metadata": {},
   "outputs": [],
   "source": []
  },
  {
   "cell_type": "markdown",
   "id": "fcc5216d",
   "metadata": {},
   "source": [
    "## Sources:\n",
    "[1] Zou, Gang et al. “Noncoding mutation in RPGRIP1 contributes to inherited retinal degenerations.” Molecular vision vol. 27 95-106. 18 Mar. 2021 https://pubmed.ncbi.nlm.nih.gov/33907365/\n",
    "\n",
    "[2] Miyadera, Keiko et al. “Multiple mechanisms contribute to leakiness of a frameshift mutation in canine cone-rod dystrophy.” PloS one vol. 7,12 (2012): e51598. doi:10.1371/journal.pone.0051598. https://pubmed.ncbi.nlm.nih.gov/23251588/ \n",
    "\n",
    "[3] Das, Rueben G et al. “Variabilities in retinal function and structure in a canine model of cone-rod dystrophy associated with RPGRIP1 support multigenic etiology.” Scientific reports vol. 7,1 12823. 9 Oct. 2017, doi:10.1038/s41598-017-13112-w. https://pubmed.ncbi.nlm.nih.gov/28993665/ \n",
    "\n",
    "[4] Kuznetsova, Tatyana et al. “Structural organization and expression pattern of the canine RPGRIP1 isoforms in retinal tissue.” Investigative ophthalmology & visual science vol. 52,6 2989-98. 6 May. 2011, doi:10.1167/iovs.10-6094. https://pubmed.ncbi.nlm.nih.gov/21282582/ \n",
    "\n",
    "[5] Miyadera, Keiko et al. “Genome-wide association study in RPGRIP1(-/-) dogs identifies a modifier locus that determines the onset of retinal degeneration.” Mammalian genome : official journal of the International Mammalian Genome Society vol. 23,1-2 (2012): 212-23. doi:10.1007/s00335-011-9384-9. https://pubmed.ncbi.nlm.nih.gov/22193413/ \n",
    "\n",
    "[6]Huang, Hui et al. “Targeted next-generation sequencing identified novel mutations in RPGRIP1 associated with both retinitis pigmentosa and Leber's congenital amaurosis in unrelated Chinese patients.” Oncotarget vol. 8,21 (2017): 35176-35183. doi:10.18632/oncotarget.17052. https://pubmed.ncbi.nlm.nih.gov/28456785/ \n",
    "\n",
    "[7] https://en.wikipedia.org/wiki/RPGRIP1"
   ]
  },
  {
   "cell_type": "code",
   "execution_count": null,
   "id": "7fa08883",
   "metadata": {},
   "outputs": [],
   "source": []
  }
 ],
 "metadata": {
  "kernelspec": {
   "display_name": "Python 3 (ipykernel)",
   "language": "python",
   "name": "python3"
  },
  "language_info": {
   "codemirror_mode": {
    "name": "ipython",
    "version": 3
   },
   "file_extension": ".py",
   "mimetype": "text/x-python",
   "name": "python",
   "nbconvert_exporter": "python",
   "pygments_lexer": "ipython3",
   "version": "3.9.7"
  }
 },
 "nbformat": 4,
 "nbformat_minor": 5
}
